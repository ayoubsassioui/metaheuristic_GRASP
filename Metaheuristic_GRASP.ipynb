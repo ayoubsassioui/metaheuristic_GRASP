{
 "cells": [
  {
   "cell_type": "code",
   "execution_count": 25,
   "id": "242be82b",
   "metadata": {},
   "outputs": [],
   "source": [
    "import pandas as pd\n",
    "import random\n",
    "import numpy  as np\n",
    "import copy\n",
    "import os\n",
    "from matplotlib import pyplot as plt"
   ]
  },
  {
   "cell_type": "code",
   "execution_count": 26,
   "id": "f0fac58f",
   "metadata": {},
   "outputs": [],
   "source": [
    "# Function: Tour Distance\n",
    "def distance_calc(Xdata, city_tour):\n",
    "    distance = 0\n",
    "    for k in range(0, len(city_tour[0])-1):\n",
    "        m = k + 1\n",
    "        distance = distance + Xdata[city_tour[0][k]-1, city_tour[0][m]-1]            \n",
    "    return distance"
   ]
  },
  {
   "cell_type": "code",
   "execution_count": 27,
   "id": "ffd2d956",
   "metadata": {},
   "outputs": [],
   "source": [
    "# Function: Euclidean Distance \n",
    "def euclidean_distance(x, y):       \n",
    "    distance = 0\n",
    "    for j in range(0, len(x)):\n",
    "        distance = (x[j] - y[j])**2 + distance   \n",
    "    return distance**(1/2) "
   ]
  },
  {
   "cell_type": "code",
   "execution_count": 28,
   "id": "a5898b24",
   "metadata": {},
   "outputs": [],
   "source": [
    "# Function: Initial Seed\n",
    "def seed_function(Xdata):\n",
    "    seed = [[],float(\"inf\")]\n",
    "    sequence = random.sample(list(range(1,Xdata.shape[0]+1)), Xdata.shape[0])\n",
    "    sequence.append(sequence[0])\n",
    "    seed[0] = sequence\n",
    "    seed[1] = distance_calc(Xdata, seed)\n",
    "    return seed"
   ]
  },
  {
   "cell_type": "code",
   "execution_count": 29,
   "id": "b311b978",
   "metadata": {},
   "outputs": [],
   "source": [
    "# Function: Build Distance Matrix\n",
    "def build_distance_matrix(coordinates):\n",
    "   a = coordinates\n",
    "   b = a.reshape(np.prod(a.shape[:-1]), 1, a.shape[-1])\n",
    "   return np.sqrt(np.einsum('ijk,ijk->ij',  b - a,  b - a)).squeeze()"
   ]
  },
  {
   "cell_type": "code",
   "execution_count": 30,
   "id": "d2cacbdf",
   "metadata": {},
   "outputs": [],
   "source": [
    "# Function: Tour Plot\n",
    "def plot_tour_distance_matrix (Xdata, city_tour):\n",
    "    m = np.copy(Xdata)\n",
    "    for i in range(0, Xdata.shape[0]):\n",
    "        for j in range(0, Xdata.shape[1]):\n",
    "            m[i,j] = (1/2)*(Xdata[0,j]**2 + Xdata[i,0]**2 - Xdata[i,j]**2)    \n",
    "    w, u = np.linalg.eig(np.matmul(m.T, m))\n",
    "    s = (np.diag(np.sort(w)[::-1]))**(1/2) \n",
    "    coordinates = np.matmul(u, s**(1/2))\n",
    "    coordinates = coordinates.real[:,0:2]\n",
    "    xy = np.zeros((len(city_tour[0]), 2))\n",
    "    for i in range(0, len(city_tour[0])):\n",
    "        if (i < len(city_tour[0])):\n",
    "            xy[i, 0] = coordinates[city_tour[0][i]-1, 0]\n",
    "            xy[i, 1] = coordinates[city_tour[0][i]-1, 1]\n",
    "        else:\n",
    "            xy[i, 0] = coordinates[city_tour[0][0]-1, 0]\n",
    "            xy[i, 1] = coordinates[city_tour[0][0]-1, 1]\n",
    "    plt.plot(xy[:,0], xy[:,1], marker = 's', alpha = 1, markersize = 7, color = 'black')\n",
    "    plt.plot(xy[0,0], xy[0,1], marker = 's', alpha = 1, markersize = 7, color = 'red')\n",
    "    plt.plot(xy[1,0], xy[1,1], marker = 's', alpha = 1, markersize = 7, color = 'orange')\n",
    "    return"
   ]
  },
  {
   "cell_type": "code",
   "execution_count": 31,
   "id": "84417120",
   "metadata": {},
   "outputs": [],
   "source": [
    "# Function: Tour Plot\n",
    "def plot_tour_coordinates (coordinates, city_tour):\n",
    "    xy = np.zeros((len(city_tour[0]), 2))\n",
    "    for i in range(0, len(city_tour[0])):\n",
    "        if (i < len(city_tour[0])):\n",
    "            xy[i, 0] = coordinates[city_tour[0][i]-1, 0]\n",
    "            xy[i, 1] = coordinates[city_tour[0][i]-1, 1]\n",
    "        else:\n",
    "            xy[i, 0] = coordinates[city_tour[0][0]-1, 0]\n",
    "            xy[i, 1] = coordinates[city_tour[0][0]-1, 1]\n",
    "    plt.plot(xy[:,0], xy[:,1], marker = 's', alpha = 1, markersize = 7, color = 'black')\n",
    "    plt.plot(xy[0,0], xy[0,1], marker = 's', alpha = 1, markersize = 7, color = 'red')\n",
    "    plt.plot(xy[1,0], xy[1,1], marker = 's', alpha = 1, markersize = 7, color = 'orange')\n",
    "    return"
   ]
  },
  {
   "cell_type": "code",
   "execution_count": 32,
   "id": "0d48043c",
   "metadata": {},
   "outputs": [],
   "source": [
    "# Function: Rank Cities by Distance\n",
    "def ranking(Xdata, city = 0):\n",
    "    rank = np.zeros((Xdata.shape[0], 2)) # ['Distance', 'City']\n",
    "    for i in range(0, rank.shape[0]):\n",
    "        rank[i,0] = Xdata[i,city]\n",
    "        rank[i,1] = i + 1\n",
    "    rank = rank[rank[:,0].argsort()]\n",
    "    return rank"
   ]
  },
  {
   "cell_type": "code",
   "execution_count": 33,
   "id": "b4330923",
   "metadata": {},
   "outputs": [],
   "source": [
    "# Function: RCL\n",
    "def restricted_candidate_list(Xdata, greediness_value = 0.5):\n",
    "    seed = [[],float(\"inf\")]\n",
    "    sequence = []\n",
    "    sequence.append(random.sample(list(range(1,Xdata.shape[0]+1)), 1)[0])\n",
    "    count = 1\n",
    "    for i in range(0, Xdata.shape[0]):\n",
    "        count = 1\n",
    "        rand = int.from_bytes(os.urandom(8), byteorder = \"big\") / ((1 << 64) - 1)\n",
    "        if (rand > greediness_value and len(sequence) < Xdata.shape[0]):\n",
    "            next_city = int(ranking(Xdata, city = sequence[-1] - 1)[count,1])\n",
    "            while next_city in sequence:\n",
    "                count = np.clip(count+1,1,Xdata.shape[0]-1)\n",
    "                next_city = int(ranking(Xdata, city = sequence[-1] - 1)[count,1])\n",
    "            sequence.append(next_city)\n",
    "        elif (rand <= greediness_value and len(sequence) < Xdata.shape[0]):\n",
    "            next_city = random.sample(list(range(1,Xdata.shape[0]+1)), 1)[0]\n",
    "            while next_city in sequence:\n",
    "                next_city = int(random.sample(list(range(1,Xdata.shape[0]+1)), 1)[0])\n",
    "            sequence.append(next_city)\n",
    "    sequence.append(sequence[0])\n",
    "    seed[0] = sequence\n",
    "    seed[1] = distance_calc(Xdata, seed)\n",
    "    return seed"
   ]
  },
  {
   "cell_type": "code",
   "execution_count": 34,
   "id": "ea3de0ec",
   "metadata": {},
   "outputs": [],
   "source": [
    "# Function: 2_opt\n",
    "def local_search_2_opt(Xdata, city_tour):\n",
    "    tour = copy.deepcopy(city_tour)\n",
    "    best_route = copy.deepcopy(tour)\n",
    "    seed = copy.deepcopy(tour)  \n",
    "    for i in range(0, len(tour[0]) - 2):\n",
    "        for j in range(i+1, len(tour[0]) - 1):\n",
    "            best_route[0][i:j+1] = list(reversed(best_route[0][i:j+1]))           \n",
    "            best_route[0][-1]  = best_route[0][0]                          \n",
    "            best_route[1] = distance_calc(Xdata, best_route)           \n",
    "            if (best_route[1] < tour[1]):\n",
    "                tour[1] = copy.deepcopy(best_route[1])\n",
    "                for n in range(0, len(tour[0])): \n",
    "                    tour[0][n] = best_route[0][n]          \n",
    "            best_route = copy.deepcopy(seed) \n",
    "    return tour"
   ]
  },
  {
   "cell_type": "code",
   "execution_count": 35,
   "id": "f88c99bc",
   "metadata": {},
   "outputs": [],
   "source": [
    "def greedy_randomized_adaptive_search_procedure(Xdata, city_tour, iterations = 50, rcl = 25, greediness_value = 0.5):\n",
    "    count = 0\n",
    "    best_solution = copy.deepcopy(city_tour)\n",
    "    while (count < iterations):\n",
    "        rcl_list = []\n",
    "        for i in range(0, rcl):\n",
    "            rcl_list.append(restricted_candidate_list(Xdata, greediness_value = greediness_value))\n",
    "        candidate = int(random.sample(list(range(0,rcl)), 1)[0])\n",
    "        city_tour = local_search_2_opt(Xdata, city_tour = rcl_list[candidate])\n",
    "        while (city_tour[0] != rcl_list[candidate][0]):\n",
    "            rcl_list[candidate] = copy.deepcopy(city_tour)\n",
    "            city_tour = local_search_2_opt(Xdata, city_tour = rcl_list[candidate])\n",
    "        if (city_tour[1] < best_solution[1]):\n",
    "            best_solution = copy.deepcopy(city_tour) \n",
    "        count = count + 1\n",
    "        print(\"Iteration =\", count, \"-> Distance =\", best_solution[1])\n",
    "    print(\"Best Solution =\", best_solution)\n",
    "    return best_solution"
   ]
  },
  {
   "cell_type": "code",
   "execution_count": 36,
   "id": "fe517533",
   "metadata": {},
   "outputs": [
    {
     "name": "stdout",
     "output_type": "stream",
     "text": [
      "Iteration = 1 -> Distance = 1922.3293587909286\n",
      "Iteration = 2 -> Distance = 1922.3293587909286\n",
      "Iteration = 3 -> Distance = 1922.3293587909286\n",
      "Iteration = 4 -> Distance = 1922.3293587909286\n",
      "Iteration = 5 -> Distance = 1922.3293587909286\n",
      "Best Solution = [[5, 9, 12, 16, 4, 1, 13, 7, 8, 17, 6, 14, 15, 3, 11, 10, 2, 5], 1922.3293587909286]\n"
     ]
    },
    {
     "name": "stderr",
     "output_type": "stream",
     "text": [
      "C:\\Users\\Ayoub\\AppData\\Local\\Temp/ipykernel_6312/1141633181.py:8: RuntimeWarning: invalid value encountered in sqrt\n",
      "  s = (np.diag(np.sort(w)[::-1]))**(1/2)\n"
     ]
    },
    {
     "data": {
      "image/png": "[encoded data removed]",
      "text/plain": [
       "<Figure size 432x288 with 1 Axes>"
      ]
     },
     "metadata": {
      "needs_background": "light"
     },
     "output_type": "display_data"
    }
   ],
   "source": [
    "#Première phase: phase de construction\n",
    "# Load File - A Distance Matrix (17 cities,  optimal = 1922.33)\n",
    "X = pd.read_csv('mydatabase01.txt', sep = '\\t') \n",
    "X = X.values\n",
    "# Start a Random Seed\n",
    "seed = seed_function(X)\n",
    "# Call the Function\n",
    "lsgrasp = greedy_randomized_adaptive_search_procedure(X, city_tour = seed, iterations = 5, rcl = 5, greediness_value = 0.5)\n",
    "# Plot Solution. Red Point = Initial city; Orange Point = Second City # The generated coordinates (2D projection) are aproximated, depending on the data, the optimum tour may present crosses\n",
    "plot_tour_distance_matrix(X, lsgrasp)"
   ]
  },
  {
   "cell_type": "code",
   "execution_count": 37,
   "id": "4e1b89e0",
   "metadata": {},
   "outputs": [
    {
     "name": "stdout",
     "output_type": "stream",
     "text": [
      "Iteration = 1 -> Distance = 8242.586417914132\n",
      "Iteration = 2 -> Distance = 8078.842361614312\n",
      "Iteration = 3 -> Distance = 8078.842361614312\n",
      "Iteration = 4 -> Distance = 7811.73425690421\n",
      "Iteration = 5 -> Distance = 7544.365901904087\n",
      "Iteration = 6 -> Distance = 7544.365901904087\n",
      "Iteration = 7 -> Distance = 7544.365901904087\n",
      "Iteration = 8 -> Distance = 7544.365901904087\n",
      "Iteration = 9 -> Distance = 7544.365901904087\n",
      "Iteration = 10 -> Distance = 7544.365901904087\n",
      "Best Solution = [[31, 22, 1, 49, 32, 45, 19, 41, 8, 9, 10, 43, 33, 51, 11, 52, 14, 13, 47, 26, 27, 28, 12, 25, 4, 6, 15, 5, 24, 48, 38, 37, 40, 39, 36, 35, 34, 44, 46, 16, 29, 50, 20, 23, 30, 2, 7, 42, 21, 17, 3, 18, 31], 7544.365901904087]\n"
     ]
    },
    {
     "data": {
      "image/png": "[encoded data removed]",
      "text/plain": [
       "<Figure size 432x288 with 1 Axes>"
      ]
     },
     "metadata": {
      "needs_background": "light"
     },
     "output_type": "display_data"
    }
   ],
   "source": [
    "#Deuxième phase: phase de recherche local\n",
    "Y = pd.read_csv('mydatabase02.txt', sep = '\\t') \n",
    "Y = Y.values\n",
    "\n",
    "# Build the Distance Matrix\n",
    "X = build_distance_matrix(Y)\n",
    "\n",
    "# Start a Random Seed\n",
    "seed = seed_function(X)\n",
    "\n",
    "# Call the Function\n",
    "lsgrasp = greedy_randomized_adaptive_search_procedure(X, city_tour = seed, iterations = 10, rcl = 15, greediness_value = 0.5)\n",
    "\n",
    "# Plot Solution. Red Point = Initial city; Orange Point = Second City\n",
    "plot_tour_coordinates(Y, lsgrasp)"
   ]
  },
  {
   "cell_type": "code",
   "execution_count": null,
   "id": "8e65d06c",
   "metadata": {},
   "outputs": [],
   "source": []
  },
  {
   "cell_type": "code",
   "execution_count": null,
   "id": "35b981e0",
   "metadata": {},
   "outputs": [],
   "source": []
  },
  {
   "cell_type": "code",
   "execution_count": null,
   "id": "61922161",
   "metadata": {},
   "outputs": [],
   "source": []
  },
  {
   "cell_type": "code",
   "execution_count": null,
   "id": "a269db80",
   "metadata": {},
   "outputs": [],
   "source": []
  },
  {
   "cell_type": "code",
   "execution_count": null,
   "id": "daa8eff4",
   "metadata": {},
   "outputs": [],
   "source": []
  },
  {
   "cell_type": "code",
   "execution_count": null,
   "id": "42e694be",
   "metadata": {},
   "outputs": [],
   "source": []
  },
  {
   "cell_type": "code",
   "execution_count": null,
   "id": "fad0cfac",
   "metadata": {},
   "outputs": [],
   "source": []
  },
  {
   "cell_type": "code",
   "execution_count": null,
   "id": "a672020a",
   "metadata": {},
   "outputs": [],
   "source": []
  },
  {
   "cell_type": "code",
   "execution_count": null,
   "id": "320f8d50",
   "metadata": {},
   "outputs": [],
   "source": []
  },
  {
   "cell_type": "code",
   "execution_count": null,
   "id": "c097bb21",
   "metadata": {},
   "outputs": [],
   "source": []
  },
  {
   "cell_type": "code",
   "execution_count": null,
   "id": "29474446",
   "metadata": {},
   "outputs": [],
   "source": []
  }
 ],
 "metadata": {
  "kernelspec": {
   "display_name": "Python 3 (ipykernel)",
   "language": "python",
   "name": "python3"
  },
  "language_info": {
   "codemirror_mode": {
    "name": "ipython",
    "version": 3
   },
   "file_extension": ".py",
   "mimetype": "text/x-python",
   "name": "python",
   "nbconvert_exporter": "python",
   "pygments_lexer": "ipython3",
   "version": "3.8.11"
  }
 },
 "nbformat": 4,
 "nbformat_minor": 5
}
